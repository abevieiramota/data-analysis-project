{
 "cells": [
  {
   "cell_type": "code",
   "execution_count": 1,
   "metadata": {},
   "outputs": [],
   "source": [
    "#Download the content\n",
    "import requests\n",
    "#Parse \n",
    "from bs4 import BeautifulSoup\n",
    "#Catch the content\n",
    "from lxml import etree\n",
    "#Extrair números e símbolos\n",
    "import re\n",
    "#Biblioteca spacy\n",
    "import spacy"
   ]
  },
  {
   "cell_type": "code",
   "execution_count": 2,
   "metadata": {},
   "outputs": [],
   "source": [
    "#find any white spaces\n",
    "RE_NORMALIZE_BLANKS = re.compile(r'[\\s]+')\n",
    "RE_CATCH_TITLES = re.compile(r'TÍTULO')\n",
    "\n",
    "url = \"http://www.planalto.gov.br/ccivil_03/constituicao/ConstituicaoCompilado.htm\"\n",
    "REQUEST_HEADER = {'User-Agent': 'Mozilla/5.0 (Macintosh; Intel Mac OS X 10_10_1) AppleWebKit/537.36 (KHTML, like Gecko) Chrome/39.0.2171.95 Safari/537.36'}\n",
    "\n",
    "#Clean the text\n",
    "def replace_all_problems(text):\n",
    "    fim = text.replace(\"\\r\\n\", \" \")\n",
    "    return fim\n",
    "\n",
    "#Normalize the text\n",
    "def normalize_text(s):\n",
    "\n",
    "    return RE_NORMALIZE_BLANKS.sub(' ', s).strip()\n",
    "\n",
    "#Request the html\n",
    "def download_html(url):\n",
    "    r = requests.get(url, headers=REQUEST_HEADER)\n",
    "\n",
    "    return r.text\n",
    "\n",
    "#Split the html in the end of art 250\n",
    "def remove_pos_normas_centrais(html):\n",
    "\n",
    "    return html.split(\"Brasília, 5 de outubro de 1988.\")[0]\n",
    "\n",
    "#Parse the soup\n",
    "def parse_soup(html):\n",
    "    soup = BeautifulSoup(html, 'html.parser')\n",
    "    \n",
    "    return soup\n",
    "\n",
    "#Extract the preambulo\n",
    "def extract_preambulo(parse):\n",
    "    dom = etree.HTML(str(parse))\n",
    "    content = replace_all_problems((dom.xpath('/html/body/p[3]/font/small')[0].text))\n",
    "    dictionary = {\"preambulo\": str(content)}\n",
    "    return dictionary\n",
    "\n",
    "def create_title(parse):\n",
    "    dictionary = {}\n",
    "    return re.findall(r'TÍTULO', parse)\n",
    "\n",
    "#Limit of PS\n",
    "N_PS = 20\n",
    "\n",
    "#Main function\n",
    "if __name__ == \"__main__\":\n",
    "    html = download_html(url)\n",
    "    html_preambulo_e_normas_centrais = remove_pos_normas_centrais(html)\n",
    "    parsed = parse_soup(html_preambulo_e_normas_centrais)"
   ]
  },
  {
   "cell_type": "code",
   "execution_count": 5,
   "metadata": {},
   "outputs": [
    {
     "ename": "TypeError",
     "evalue": "expected string or bytes-like object",
     "output_type": "error",
     "traceback": [
      "\u001b[1;31m---------------------------------------------------------------------------\u001b[0m",
      "\u001b[1;31mTypeError\u001b[0m                                 Traceback (most recent call last)",
      "\u001b[1;32mc:\\Users\\Pudge\\Desktop\\data-analysis-project\\Project.ipynb Cell 3'\u001b[0m in \u001b[0;36m<cell line: 1>\u001b[1;34m()\u001b[0m\n\u001b[1;32m----> <a href='vscode-notebook-cell:/c%3A/Users/Pudge/Desktop/data-analysis-project/Project.ipynb#ch0000002?line=0'>1</a>\u001b[0m \u001b[39mprint\u001b[39m(create_title(parsed))\n",
      "\u001b[1;32mc:\\Users\\Pudge\\Desktop\\data-analysis-project\\Project.ipynb Cell 2'\u001b[0m in \u001b[0;36mcreate_title\u001b[1;34m(parse)\u001b[0m\n\u001b[0;32m     <a href='vscode-notebook-cell:/c%3A/Users/Pudge/Desktop/data-analysis-project/Project.ipynb#ch0000001?line=41'>42</a>\u001b[0m \u001b[39mdef\u001b[39;00m \u001b[39mcreate_title\u001b[39m(parse):\n\u001b[0;32m     <a href='vscode-notebook-cell:/c%3A/Users/Pudge/Desktop/data-analysis-project/Project.ipynb#ch0000001?line=42'>43</a>\u001b[0m     dictionary \u001b[39m=\u001b[39m {}\n\u001b[1;32m---> <a href='vscode-notebook-cell:/c%3A/Users/Pudge/Desktop/data-analysis-project/Project.ipynb#ch0000001?line=43'>44</a>\u001b[0m     \u001b[39mreturn\u001b[39;00m re\u001b[39m.\u001b[39;49mfindall(\u001b[39mr\u001b[39;49m\u001b[39m'\u001b[39;49m\u001b[39mTÍTULO\u001b[39;49m\u001b[39m'\u001b[39;49m, parse)\n",
      "File \u001b[1;32mC:\\Python310\\lib\\re.py:240\u001b[0m, in \u001b[0;36mfindall\u001b[1;34m(pattern, string, flags)\u001b[0m\n\u001b[0;32m    232\u001b[0m \u001b[39mdef\u001b[39;00m \u001b[39mfindall\u001b[39m(pattern, string, flags\u001b[39m=\u001b[39m\u001b[39m0\u001b[39m):\n\u001b[0;32m    233\u001b[0m     \u001b[39m\"\"\"Return a list of all non-overlapping matches in the string.\u001b[39;00m\n\u001b[0;32m    234\u001b[0m \n\u001b[0;32m    235\u001b[0m \u001b[39m    If one or more capturing groups are present in the pattern, return\u001b[39;00m\n\u001b[1;32m   (...)\u001b[0m\n\u001b[0;32m    238\u001b[0m \n\u001b[0;32m    239\u001b[0m \u001b[39m    Empty matches are included in the result.\"\"\"\u001b[39;00m\n\u001b[1;32m--> 240\u001b[0m     \u001b[39mreturn\u001b[39;00m _compile(pattern, flags)\u001b[39m.\u001b[39;49mfindall(string)\n",
      "\u001b[1;31mTypeError\u001b[0m: expected string or bytes-like object"
     ]
    }
   ],
   "source": [
    "print(create_title(parsed))"
   ]
  }
 ],
 "metadata": {
  "kernelspec": {
   "display_name": "Python 3.10.2 ('env': venv)",
   "language": "python",
   "name": "python3"
  },
  "language_info": {
   "codemirror_mode": {
    "name": "ipython",
    "version": 3
   },
   "file_extension": ".py",
   "mimetype": "text/x-python",
   "name": "python",
   "nbconvert_exporter": "python",
   "pygments_lexer": "ipython3",
   "version": "3.10.2"
  },
  "orig_nbformat": 4,
  "vscode": {
   "interpreter": {
    "hash": "4bd79c9e5bc6df1f70c183401625d1820c161d4f9746a7afcc172e15e032e9d6"
   }
  }
 },
 "nbformat": 4,
 "nbformat_minor": 2
}
