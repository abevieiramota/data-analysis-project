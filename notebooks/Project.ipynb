{
 "cells": [
  {
   "cell_type": "code",
   "execution_count": 1,
   "id": "2c0188fd",
   "metadata": {},
   "outputs": [],
   "source": [
    "#Download the content\n",
    "import requests\n",
    "#Parse \n",
    "from bs4 import BeautifulSoup\n",
    "#Catch the content\n",
    "from lxml import etree\n",
    "#Extrair números e símbolos\n",
    "import regex as re\n",
    "#Biblioteca spacy\n",
    "import spacy"
   ]
  },
  {
   "cell_type": "code",
   "execution_count": 15,
   "id": "94775c04",
   "metadata": {},
   "outputs": [],
   "source": [
    "#find any white spaces\n",
    "RE_NORMALIZE_BLANKS = re.compile(r'[\\s]+')\n",
    "RE_CATCH_TITLES = re.compile('TÍTULO')\n",
    "\n",
    "url = \"http://www.planalto.gov.br/ccivil_03/constituicao/ConstituicaoCompilado.htm\"\n",
    "REQUEST_HEADER = {'User-Agent': 'Mozilla/5.0 (Macintosh; Intel Mac OS X 10_10_1) AppleWebKit/537.36 (KHTML, like Gecko) Chrome/39.0.2171.95 Safari/537.36'}\n",
    "\n",
    "#Clean the text\n",
    "def replace_all_problems(text):\n",
    "    fim = text.replace(\"\\r\\n\", \" \")\n",
    "    return fim\n",
    "\n",
    "#Normalize the text\n",
    "def normalize_text(s):\n",
    "\n",
    "    return RE_NORMALIZE_BLANKS.sub(' ', s).strip()\n",
    "\n",
    "#Request the html\n",
    "def download_html(url):\n",
    "    r = requests.get(url, headers=REQUEST_HEADER)\n",
    "\n",
    "    return r.text\n",
    "\n",
    "#Split the html in the end of art 250\n",
    "def remove_pos_normas_centrais(html):\n",
    "\n",
    "    return html.split(\"Brasília, 5 de outubro de 1988.\")[0]\n",
    "\n",
    "#Parse the soup\n",
    "def parse_soup(html):\n",
    "    soup = BeautifulSoup(html, 'html.parser')\n",
    "    \n",
    "    return soup\n",
    "\n",
    "#Extract the preambulo\n",
    "def extract_preambulo(soup):\n",
    "    dom = etree.HTML(str(soup))\n",
    "    content = replace_all_problems((dom.xpath('/html/body/p[3]/font/small')[0].text))\n",
    "    dictionary = {\"preambulo\": str(content)}\n",
    "    return dictionary\n",
    "\n",
    "def create_title(soup):\n",
    "    find = soup.find_all(\"p\", face=\"Arial\")\n",
    "    return find\n",
    "\n",
    "html = download_html(url)\n",
    "html_preambulo_e_normas_centrais = remove_pos_normas_centrais(html)\n",
    "soup = parse_soup(html_preambulo_e_normas_centrais)"
   ]
  },
  {
   "cell_type": "code",
   "execution_count": null,
   "id": "01179119",
   "metadata": {},
   "outputs": [],
   "source": []
  }
 ],
 "metadata": {
  "kernelspec": {
   "display_name": "Python 3 (ipykernel)",
   "language": "python",
   "name": "python3"
  },
  "language_info": {
   "codemirror_mode": {
    "name": "ipython",
    "version": 3
   },
   "file_extension": ".py",
   "mimetype": "text/x-python",
   "name": "python",
   "nbconvert_exporter": "python",
   "pygments_lexer": "ipython3",
   "version": "3.9.12"
  }
 },
 "nbformat": 4,
 "nbformat_minor": 5
}
