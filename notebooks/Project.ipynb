{
 "cells": [
  {
   "cell_type": "code",
   "execution_count": 53,
   "id": "2c0188fd",
   "metadata": {},
   "outputs": [],
   "source": [
    "#Download the content\n",
    "import requests\n",
    "#Parse \n",
    "from bs4 import BeautifulSoup\n",
    "#Catch the content\n",
    "from lxml import etree\n",
    "#Extrair números e símbolos\n",
    "import regex as re\n",
    "#Biblioteca spacy\n",
    "import spacy"
   ]
  },
  {
   "cell_type": "code",
   "execution_count": 54,
   "id": "e66acd96",
   "metadata": {},
   "outputs": [],
   "source": [
    "RE_NORMALIZE_BLANKS = re.compile(r'[\\s]+')\n",
    "url = \"http://www.planalto.gov.br/ccivil_03/constituicao/ConstituicaoCompilado.htm\"\n",
    "REQUEST_HEADER = {'User-Agent': 'Mozilla/5.0 (Macintosh; Intel Mac OS X 10_10_1) AppleWebKit/537.36 (KHTML, like Gecko) Chrome/39.0.2171.95 Safari/537.36'}\n",
    "\n",
    "#Clean the text\n",
    "def replace_all_problems(text):\n",
    "    fim = text.replace(\"\\r\\n\", \" \")\n",
    "    return fim\n",
    "\n",
    "#Normalize the text\n",
    "def normalize_text(s):\n",
    "\n",
    "    return RE_NORMALIZE_BLANKS.sub(' ', s).strip()\n",
    "\n",
    "#Request the html\n",
    "def download_html(url):\n",
    "    r = requests.get(url, headers=REQUEST_HEADER)\n",
    "\n",
    "    return r.text\n",
    "\n",
    "#Split the html in the end of art 250\n",
    "def remove_pos_normas_centrais(html):\n",
    "\n",
    "    return html.split(\"Brasília, 5 de outubro de 1988.\")[0]\n",
    "\n",
    "#Parse the soup\n",
    "def parse_soup(html):\n",
    "    soup = BeautifulSoup(html, 'html.parser')\n",
    "    \n",
    "    return soup\n",
    "\n",
    "#Extract the preambulo\n",
    "def extract_preambulo(soup):\n",
    "    dom = etree.HTML(str(soup))\n",
    "    content = replace_all_problems((dom.xpath('/html/body/p[3]/font/small')[0].text))\n",
    "    dictionary = {\"preambulo\": str(content)}\n",
    "    return dictionary\n",
    "\n",
    "def create_title(soup):\n",
    "    find = soup.find_all(\"p\", face=\"Arial\")\n",
    "    return find\n",
    "\n",
    "html = download_html(url)\n",
    "html_preambulo_e_normas_centrais = remove_pos_normas_centrais(html)\n",
    "soup = parse_soup(html_preambulo_e_normas_centrais)\n",
    "\n",
    "cf = ' '.join(p.text for p in soup.find_all('p'))\n",
    "cf = normalize_text(cf)\n",
    "cf = cf.strip()\n",
    "cf = re.findall('TÍTULO\\s+[IXV]+.*?(?=TÍTULO)', cf)"
   ]
  },
  {
   "cell_type": "code",
   "execution_count": 55,
   "id": "0cef0a86",
   "metadata": {},
   "outputs": [
    {
     "data": {
      "text/plain": [
       "'TÍTULO I Dos Princípios Fundamentais Art. 1º A República Federativa do Brasil, formada pela união indissolúvel dos Estados e Municípios e do Distrito Federal, constitui-se em Estado Democrático de Direito e tem como fundamentos: I - a soberania; II - a cidadania III - a dignidade da pessoa humana; IV - os valores sociais do trabalho e da livre iniciativa; (Vide Lei nº 13.874, de 2019) V - o pluralismo político. Parágrafo único. Todo o poder emana do povo, que o exerce por meio de representantes eleitos ou diretamente, nos termos desta Constituição. Art. 2º São Poderes da União, independentes e harmônicos entre si, o Legislativo, o Executivo e o Judiciário. Art. 3º Constituem objetivos fundamentais da República Federativa do Brasil: I - construir uma sociedade livre, justa e solidária; II - garantir o desenvolvimento nacional; III - erradicar a pobreza e a marginalização e reduzir as desigualdades sociais e regionais; IV - promover o bem de todos, sem preconceitos de origem, raça, sexo, cor, idade e quaisquer outras formas de discriminação. Art. 4º A República Federativa do Brasil rege-se nas suas relações internacionais pelos seguintes princípios: I - independência nacional; II - prevalência dos direitos humanos; III - autodeterminação dos povos; IV - não-intervenção; V - igualdade entre os Estados; VI - defesa da paz; VII - solução pacífica dos conflitos; VIII - repúdio ao terrorismo e ao racismo; IX - cooperação entre os povos para o progresso da humanidade; X - concessão de asilo político. Parágrafo único. A República Federativa do Brasil buscará a integração econômica, política, social e cultural dos povos da América Latina, visando à formação de uma comunidade latino-americana de nações. '"
      ]
     },
     "execution_count": 55,
     "metadata": {},
     "output_type": "execute_result"
    }
   ],
   "source": [
    "cf[0]"
   ]
  },
  {
   "cell_type": "code",
   "execution_count": 56,
   "id": "742116c2",
   "metadata": {},
   "outputs": [],
   "source": [
    "FIND_GROUP_TITLE = re.compile('TÍTULO\\s+[IXV]+.*?(?=TÍTULO)')\n",
    "FIND_TITLE = re.compile('(?P<titulo>TÍTULO)\\s+(?P<titulo_numero>[IXV]+)\\s+(?P<titulo_descricao>.*?(?=Art))')\n",
    "FIND_CHAPTER = re.compile('CAPÍTULO')"
   ]
  },
  {
   "cell_type": "code",
   "execution_count": 59,
   "id": "b62d9c75",
   "metadata": {},
   "outputs": [
    {
     "data": {
      "text/plain": [
       "{'titles': [{'titulo': 'TÍTULO',\n",
       "   'titulo_identificador': 'I',\n",
       "   'titulo_descricao': 'Dos Princípios Fundamentais',\n",
       "   'chapter': {'capitulo': '0', 'capitulo_descricao': 'CAPÍTULO ÚNICO'}}]}"
      ]
     },
     "execution_count": 59,
     "metadata": {},
     "output_type": "execute_result"
    }
   ],
   "source": [
    "titulo = {}\n",
    "titulo['titles'] = [\n",
    "    {\n",
    "        'titulo': m.group('titulo'),\n",
    "        'titulo_identificador': m.group('titulo_numero'),\n",
    "        'titulo_descricao': m.group('titulo_descricao').strip(),\n",
    "        'chapter': {\n",
    "            'capitulo': m.group('capitulo') if FIND_CHAPTER.match(cf[0]) else '0',\n",
    "            'capitulo_descricao': m.group('capitulo_descricao') if FIND_CHAPTER.match(cf[0]) else 'CAPÍTULO ÚNICO'\n",
    "            'artigo': {\n",
    "                'artigo_identificador': \n",
    "                \n",
    "            }\n",
    "                \n",
    "        }\n",
    "    } for m in FIND_TITLE.finditer(cf[0])\n",
    "]\n",
    "titulo"
   ]
  },
  {
   "cell_type": "code",
   "execution_count": null,
   "id": "bdd898b3",
   "metadata": {},
   "outputs": [],
   "source": []
  }
 ],
 "metadata": {
  "kernelspec": {
   "display_name": "Python 3 (ipykernel)",
   "language": "python",
   "name": "python3"
  },
  "language_info": {
   "codemirror_mode": {
    "name": "ipython",
    "version": 3
   },
   "file_extension": ".py",
   "mimetype": "text/x-python",
   "name": "python",
   "nbconvert_exporter": "python",
   "pygments_lexer": "ipython3",
   "version": "3.9.12"
  }
 },
 "nbformat": 4,
 "nbformat_minor": 5
}
